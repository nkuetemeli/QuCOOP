{
 "cells": [
  {
   "cell_type": "code",
   "execution_count": 1,
   "metadata": {},
   "source": [
    "import numpy as np\n",
    "\n",
    "f = open('bur26a.dat','r')\n",
    "liste= []\n",
    "liste2= []\n",
    "\n",
    "counter=0\n",
    "for l in f:\n",
    "       if counter==0:\n",
    "            dimension= int(l) \n",
    "            \n",
    "       if counter>1 and counter <28:\n",
    "    \n",
    "           g = np.array([int(v) for v in l.strip().split(\" \")])\n",
    "           liste.append(g)\n",
    "       if counter>28 and counter<55:\n",
    "           g = np.array( [ v for v in l.strip().split(\" \")])\n",
    "           g= np.delete(g,np.where(g==''))\n",
    "\n",
    "                \n",
    "           g= [int(elem) for elem in g]\n",
    "            \n",
    "           liste2.append(g)\n",
    "       counter = counter +1\n",
    "A= np.array(liste)\n",
    "B= np.array(liste2)"
   ],
   "outputs": []
  },
  {
   "cell_type": "code",
   "execution_count": 20,
   "metadata": {},
   "source": [
    "f = open('bur26a.sln','r')\n",
    "counter=0\n",
    "for l in f :\n",
    "        if counter==0:\n",
    "            \n",
    "            r =  np.array([v for v in l.strip().split(\" \")])\n",
    "            r= np.delete(r,np.where(r==''))\n",
    "\n",
    "                \n",
    "            r= [int(elem) for elem in r]\n",
    "    \n",
    "        if counter == 1:\n",
    "    \n",
    "           g = np.array( [ v for v in l.strip().split(\" \")])\n",
    "           g= np.delete(g,np.where(g==''))\n",
    "\n",
    "                \n",
    "           g= [int(elem) for elem in g]        \n",
    "        \n",
    "        \n",
    "        if counter==2:\n",
    "           e = np.array( [ v for v in l.strip().split(\" \")])\n",
    "           e= np.delete(e,np.where(e==''))\n",
    "\n",
    "                \n",
    "           e= [int(elem) for elem in e]\n",
    "        counter = counter +1\n",
    "        \n",
    "permutationSol= np.hstack([g,e] )"
   ],
   "outputs": []
  },
  {
   "cell_type": "code",
   "execution_count": 21,
   "metadata": {},
   "source": [
    "permutationSol"
   ],
   "outputs": []
  },
  {
   "cell_type": "code",
   "execution_count": null,
   "metadata": {},
   "source": [],
   "outputs": []
  }
 ],
 "metadata": {
  "kernelspec": {
   "display_name": "Python 3",
   "language": "python",
   "name": "python3"
  },
  "language_info": {
   "codemirror_mode": {
    "name": "ipython",
    "version": 3
   },
   "file_extension": ".py",
   "mimetype": "text/x-python",
   "name": "python",
   "nbconvert_exporter": "python",
   "pygments_lexer": "ipython3",
   "version": "3.9.0"
  }
 },
 "nbformat": 4,
 "nbformat_minor": 4
}
