{
 "cells": [
  {
   "cell_type": "code",
   "execution_count": 3,
   "metadata": {},
   "source": [
    "import numpy as np\n",
    "\n",
    "def is_float(string):\n",
    "    \"\"\" True if given string is float else False\"\"\"\n",
    "    try:\n",
    "        return float(string)\n",
    "    except ValueError:\n",
    "        return False\n",
    "\n",
    "#data = []\n",
    "with open('bur26a.dat', 'r') as f:\n",
    "    d = f.readlines()\n",
    "    for i in d:\n",
    "        k = i.rstrip().split(\",\")\n",
    "        #data.append([float(i) if is_float(i) else i for i in k]) \n",
    "data = np.genfromtxt('bur26a.dat',\n",
    "                     skip_header=1,\n",
    "                     skip_footer=1,\n",
    "                     names=True,\n",
    "                     dtype=None,\n",
    "                     delimiter=' ')\n",
    "#data = np.array(data, dtype='O')"
   ],
   "outputs": []
  },
  {
   "cell_type": "code",
   "execution_count": 4,
   "metadata": {},
   "source": [
    "data\n"
   ],
   "outputs": []
  },
  {
   "cell_type": "code",
   "execution_count": 10,
   "metadata": {},
   "source": [
    "import pandas as pd\n",
    "import numpy as np\n",
    "import os\n",
    "\n",
    "path = \"D:/Marcel/Documents/Promotion/ICCV/Qaplib/qapdata.tar/bur26a\"\n",
    "dirs = os.listdir(path)\n",
    "#\n",
    "#\n",
    "for file in dirs:\n",
    "    table = pd.read_table(file, skiprows=4)\n",
    "    SA = table.loc[:,\"SA\"]\n",
    "    print(SA)"
   ],
   "outputs": []
  },
  {
   "cell_type": "code",
   "execution_count": 19,
   "metadata": {
    "scrolled": true
   },
   "source": [
    "a=pd.read_csv('bur26a.dat', delim_whitespace=True)"
   ],
   "outputs": []
  },
  {
   "cell_type": "code",
   "execution_count": 22,
   "metadata": {},
   "source": [
    "import csv\n",
    "import numpy as np\n",
    "with open('bur26a.dat','r') as dest_f:\n",
    "    data_iter = csv.reader(dest_f,\n",
    "                           delimiter = ' ',\n",
    "                           quotechar = '\"')\n",
    "    data = [data for data in data_iter]\n",
    "data_array = np.asarray(data)#, dtype = <whatever options>)"
   ],
   "outputs": []
  },
  {
   "cell_type": "code",
   "execution_count": 23,
   "metadata": {},
   "source": [
    "data_array"
   ],
   "outputs": []
  },
  {
   "cell_type": "code",
   "execution_count": 24,
   "metadata": {},
   "source": [
    "type(a)"
   ],
   "outputs": []
  },
  {
   "cell_type": "code",
   "execution_count": 29,
   "metadata": {},
   "source": [
    "a.iloc[3]"
   ],
   "outputs": []
  },
  {
   "cell_type": "code",
   "execution_count": 31,
   "metadata": {},
   "source": [
    "np.genfromtxt('bur26a.dat', dtype= int)"
   ],
   "outputs": []
  },
  {
   "cell_type": "code",
   "execution_count": 32,
   "metadata": {},
   "source": [
    "arrays = [np.array(map(int, line.split())) for line in open('bur26a.dat')]"
   ],
   "outputs": []
  },
  {
   "cell_type": "code",
   "execution_count": 36,
   "metadata": {},
   "source": [
    "arrays"
   ],
   "outputs": []
  },
  {
   "cell_type": "code",
   "execution_count": 89,
   "metadata": {},
   "source": [
    "f = open('bur26a.dat','r')\n",
    "liste= []\n",
    "liste2= []\n",
    "\n",
    "counter=0\n",
    "for l in f:\n",
    "       if counter==0:\n",
    "            dimension= int(l) \n",
    "            \n",
    "       if counter>1 and counter <28:\n",
    "    \n",
    "           g = np.array([int(v) for v in l.strip().split(\" \")])\n",
    "           liste.append(g)\n",
    "       if counter>28 and counter<55:\n",
    "           g = np.array( [ v for v in l.strip().split(\" \")])\n",
    "           g= np.delete(g,np.where(g==''))\n",
    "\n",
    "                \n",
    "           g= [int(elem) for elem in g]\n",
    "            \n",
    "           liste2.append(g)\n",
    "       counter = counter +1\n",
    "A= np.array(liste)\n",
    "B= np.array(liste2)"
   ],
   "outputs": []
  },
  {
   "cell_type": "code",
   "execution_count": 90,
   "metadata": {},
   "source": [
    "B.shape"
   ],
   "outputs": []
  },
  {
   "cell_type": "code",
   "execution_count": 85,
   "metadata": {},
   "source": [
    "g"
   ],
   "outputs": []
  },
  {
   "cell_type": "code",
   "execution_count": 77,
   "metadata": {},
   "source": [
    "indexes = [elem=='' for elem in g]\n",
    "for index in sorted(indexes, reverse=True):\n",
    "    del g[index]"
   ],
   "outputs": []
  },
  {
   "cell_type": "code",
   "execution_count": 84,
   "metadata": {},
   "source": [
    "indexes = [elem=='' for elem in g]\n",
    "for index in range(len(g)):\n",
    "    if g[len(g)- index-1]=='':\n",
    "        del g[len(g)- index-1]"
   ],
   "outputs": []
  },
  {
   "cell_type": "code",
   "execution_count": null,
   "metadata": {},
   "source": [],
   "outputs": []
  }
 ],
 "metadata": {
  "kernelspec": {
   "display_name": "Python 3",
   "language": "python",
   "name": "python3"
  },
  "language_info": {
   "codemirror_mode": {
    "name": "ipython",
    "version": 3
   },
   "file_extension": ".py",
   "mimetype": "text/x-python",
   "name": "python",
   "nbconvert_exporter": "python",
   "pygments_lexer": "ipython3",
   "version": "3.9.0"
  }
 },
 "nbformat": 4,
 "nbformat_minor": 4
}
